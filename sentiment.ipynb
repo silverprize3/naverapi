{
 "cells": [
  {
   "cell_type": "code",
   "execution_count": null,
   "metadata": {},
   "outputs": [],
   "source": [
    "import pandas as pd \n",
    "import numpy as np"
   ]
  },
  {
   "cell_type": "code",
   "execution_count": 30,
   "metadata": {},
   "outputs": [],
   "source": [
    "import sys\n",
    "import requests\n",
    "import json\n",
    "\n",
    "client_id = \"client_id\"\n",
    "client_secret = \"client_secret\"\n",
    "\n",
    "def naver_sent_api(client_id,client_secret,content):\n",
    "    url=\"https://naveropenapi.apigw.ntruss.com/sentiment-analysis/v1/analyze\"\n",
    "    headers = {\n",
    "        \"X-NCP-APIGW-API-KEY-ID\": client_id,\n",
    "        \"X-NCP-APIGW-API-KEY\": client_secret,\n",
    "        \"Content-Type\": \"application/json\"\n",
    "    }\n",
    "    data = {\n",
    "    \"content\": content\n",
    "    }\n",
    "    response = requests.post(url, data=json.dumps(data), headers=headers)\n",
    "    rescode = response.status_code\n",
    "    if(rescode == 200):\n",
    "        return json.loads(str(response.text))['document'][\"sentiment\"]\n",
    "    # else:\n",
    "    #     print(\"Error : \" + response.text)"
   ]
  },
  {
   "cell_type": "code",
   "execution_count": 18,
   "metadata": {},
   "outputs": [
    {
     "data": {
      "text/html": [
       "<div>\n",
       "<style scoped>\n",
       "    .dataframe tbody tr th:only-of-type {\n",
       "        vertical-align: middle;\n",
       "    }\n",
       "\n",
       "    .dataframe tbody tr th {\n",
       "        vertical-align: top;\n",
       "    }\n",
       "\n",
       "    .dataframe thead th {\n",
       "        text-align: right;\n",
       "    }\n",
       "</style>\n",
       "<table border=\"1\" class=\"dataframe\">\n",
       "  <thead>\n",
       "    <tr style=\"text-align: right;\">\n",
       "      <th></th>\n",
       "      <th>title</th>\n",
       "      <th>contents</th>\n",
       "    </tr>\n",
       "  </thead>\n",
       "  <tbody>\n",
       "    <tr>\n",
       "      <th>0</th>\n",
       "      <td>티니핑 좋아하는 아들 있나요?</td>\n",
       "      <td>저희 아들 6살인데 티니핑을 많이 좋아해요.. 처음에는 잠깐 좋아하고 말겠지 했는데...</td>\n",
       "    </tr>\n",
       "    <tr>\n",
       "      <th>1</th>\n",
       "      <td>어린이날선물 뚜레쥬르 티니핑 케이크 대성공</td>\n",
       "      <td>어린이날선물 뚜레쥬르 티니핑 케이크 안녕하세요, 힘찬맘이에요 오늘이 바로 대망의 어...</td>\n",
       "    </tr>\n",
       "  </tbody>\n",
       "</table>\n",
       "</div>"
      ],
      "text/plain": [
       "                     title                                           contents\n",
       "0         티니핑 좋아하는 아들 있나요?  저희 아들 6살인데 티니핑을 많이 좋아해요.. 처음에는 잠깐 좋아하고 말겠지 했는데...\n",
       "1  어린이날선물 뚜레쥬르 티니핑 케이크 대성공  어린이날선물 뚜레쥬르 티니핑 케이크 안녕하세요, 힘찬맘이에요 오늘이 바로 대망의 어..."
      ]
     },
     "execution_count": 18,
     "metadata": {},
     "output_type": "execute_result"
    }
   ],
   "source": [
    "df = pd.read_excel(\"티니핑분석보고서view.xlsx\")\n",
    "df.head(2)"
   ]
  },
  {
   "cell_type": "code",
   "execution_count": 32,
   "metadata": {},
   "outputs": [],
   "source": [
    "df[\"sentiment\"] = np.nan"
   ]
  },
  {
   "cell_type": "code",
   "execution_count": 33,
   "metadata": {},
   "outputs": [
    {
     "name": "stderr",
     "output_type": "stream",
     "text": [
      "C:\\Users\\user\\AppData\\Local\\Temp/ipykernel_17728/1264993330.py:2: SettingWithCopyWarning: \n",
      "A value is trying to be set on a copy of a slice from a DataFrame\n",
      "\n",
      "See the caveats in the documentation: https://pandas.pydata.org/pandas-docs/stable/user_guide/indexing.html#returning-a-view-versus-a-copy\n",
      "  df[\"sentiment\"][i] = naver_sent_api(client_id,client_secret,df[\"contents\"][i])\n",
      "c:\\Users\\user\\anaconda3\\lib\\site-packages\\pandas\\core\\indexing.py:1732: SettingWithCopyWarning: \n",
      "A value is trying to be set on a copy of a slice from a DataFrame\n",
      "\n",
      "See the caveats in the documentation: https://pandas.pydata.org/pandas-docs/stable/user_guide/indexing.html#returning-a-view-versus-a-copy\n",
      "  self._setitem_single_block(indexer, value, name)\n"
     ]
    }
   ],
   "source": [
    "for i in range(len(df)):\n",
    "    df[\"sentiment\"][i] = naver_sent_api(client_id,client_secret,df[\"contents\"][i])"
   ]
  },
  {
   "cell_type": "code",
   "execution_count": 34,
   "metadata": {},
   "outputs": [
    {
     "data": {
      "text/html": [
       "<div>\n",
       "<style scoped>\n",
       "    .dataframe tbody tr th:only-of-type {\n",
       "        vertical-align: middle;\n",
       "    }\n",
       "\n",
       "    .dataframe tbody tr th {\n",
       "        vertical-align: top;\n",
       "    }\n",
       "\n",
       "    .dataframe thead th {\n",
       "        text-align: right;\n",
       "    }\n",
       "</style>\n",
       "<table border=\"1\" class=\"dataframe\">\n",
       "  <thead>\n",
       "    <tr style=\"text-align: right;\">\n",
       "      <th></th>\n",
       "      <th>title</th>\n",
       "      <th>contents</th>\n",
       "      <th>sentiment</th>\n",
       "    </tr>\n",
       "  </thead>\n",
       "  <tbody>\n",
       "    <tr>\n",
       "      <th>0</th>\n",
       "      <td>티니핑 좋아하는 아들 있나요?</td>\n",
       "      <td>저희 아들 6살인데 티니핑을 많이 좋아해요.. 처음에는 잠깐 좋아하고 말겠지 했는데...</td>\n",
       "      <td>positive</td>\n",
       "    </tr>\n",
       "    <tr>\n",
       "      <th>1</th>\n",
       "      <td>어린이날선물 뚜레쥬르 티니핑 케이크 대성공</td>\n",
       "      <td>어린이날선물 뚜레쥬르 티니핑 케이크 안녕하세요, 힘찬맘이에요 오늘이 바로 대망의 어...</td>\n",
       "      <td>neutral</td>\n",
       "    </tr>\n",
       "    <tr>\n",
       "      <th>2</th>\n",
       "      <td>티니핑 좋아하는 남자아이 있나요 ?</td>\n",
       "      <td>집에서 가끔 티니핑 만화는 본 적 있었는데 그래도 카봇, 미니특공대, 타요... 그...</td>\n",
       "      <td>positive</td>\n",
       "    </tr>\n",
       "    <tr>\n",
       "      <th>3</th>\n",
       "      <td>캐치티니핑 장난감 : 티니핑 피규어, 워터파크, 쏘잉스튜디오, 쥬얼하트윙폰, 뮤지컬...</td>\n",
       "      <td>캐치티니핑 장난감 티니핑 피규어, 워터파크, 쏘잉스튜디오, 쥬얼하트윙폰, 티니핑 뮤...</td>\n",
       "      <td>neutral</td>\n",
       "    </tr>\n",
       "    <tr>\n",
       "      <th>4</th>\n",
       "      <td>캐치티니핑 6세 여아장난감 신나게 놀아요</td>\n",
       "      <td>캐치티니핑 6세 여아장난감 집에서도 신나게 놀아요 꾸꾸는 얼마전 부터 아기자기하고 ...</td>\n",
       "      <td>positive</td>\n",
       "    </tr>\n",
       "    <tr>\n",
       "      <th>...</th>\n",
       "      <td>...</td>\n",
       "      <td>...</td>\n",
       "      <td>...</td>\n",
       "    </tr>\n",
       "    <tr>\n",
       "      <th>117</th>\n",
       "      <td>티니핑케이크-뚜레주르</td>\n",
       "      <td>캐치티니핑. 이 파산핑때문에 (삼진이 골수까지 뽑아먹기로 작정) 피규어, 놀이터,인...</td>\n",
       "      <td>neutral</td>\n",
       "    </tr>\n",
       "    <tr>\n",
       "      <th>118</th>\n",
       "      <td>캐치티니핑 전사지</td>\n",
       "      <td>3살 여아 키우고 있는 맘이예요 슬슬 미디어 노출로 저희 아이도 캐치티니핑을 알게돼...</td>\n",
       "      <td>positive</td>\n",
       "    </tr>\n",
       "    <tr>\n",
       "      <th>119</th>\n",
       "      <td>뒤늦게 티니핑 지옥..</td>\n",
       "      <td>딸있는 친구들이 티니핑 땜에 죽겠다 할때 야 카봇도 만만치 않아. 콧웃음 쳤다가.....</td>\n",
       "      <td>negative</td>\n",
       "    </tr>\n",
       "    <tr>\n",
       "      <th>120</th>\n",
       "      <td>캐치티니핑 여쭤봐요 T_T</td>\n",
       "      <td>전혀 모르겠어요ㅎㅎ 종류도 너무 많고 시크릿쥬쥬 끝났다 했더니 캐치티니핑 시작인가바...</td>\n",
       "      <td>positive</td>\n",
       "    </tr>\n",
       "    <tr>\n",
       "      <th>121</th>\n",
       "      <td>티니핑헤어핀/머리띠 등</td>\n",
       "      <td>개인거래(판매), 판매중, 가격 3,000원, 직접결제, 티니핑헤어핀/머리띠 등, ...</td>\n",
       "      <td>neutral</td>\n",
       "    </tr>\n",
       "  </tbody>\n",
       "</table>\n",
       "<p>122 rows × 3 columns</p>\n",
       "</div>"
      ],
      "text/plain": [
       "                                                 title  \\\n",
       "0                                     티니핑 좋아하는 아들 있나요?   \n",
       "1                              어린이날선물 뚜레쥬르 티니핑 케이크 대성공   \n",
       "2                                  티니핑 좋아하는 남자아이 있나요 ?   \n",
       "3    캐치티니핑 장난감 : 티니핑 피규어, 워터파크, 쏘잉스튜디오, 쥬얼하트윙폰, 뮤지컬...   \n",
       "4                               캐치티니핑 6세 여아장난감 신나게 놀아요   \n",
       "..                                                 ...   \n",
       "117                                        티니핑케이크-뚜레주르   \n",
       "118                                          캐치티니핑 전사지   \n",
       "119                                       뒤늦게 티니핑 지옥..   \n",
       "120                                     캐치티니핑 여쭤봐요 T_T   \n",
       "121                                       티니핑헤어핀/머리띠 등   \n",
       "\n",
       "                                              contents sentiment  \n",
       "0    저희 아들 6살인데 티니핑을 많이 좋아해요.. 처음에는 잠깐 좋아하고 말겠지 했는데...  positive  \n",
       "1    어린이날선물 뚜레쥬르 티니핑 케이크 안녕하세요, 힘찬맘이에요 오늘이 바로 대망의 어...   neutral  \n",
       "2    집에서 가끔 티니핑 만화는 본 적 있었는데 그래도 카봇, 미니특공대, 타요... 그...  positive  \n",
       "3    캐치티니핑 장난감 티니핑 피규어, 워터파크, 쏘잉스튜디오, 쥬얼하트윙폰, 티니핑 뮤...   neutral  \n",
       "4    캐치티니핑 6세 여아장난감 집에서도 신나게 놀아요 꾸꾸는 얼마전 부터 아기자기하고 ...  positive  \n",
       "..                                                 ...       ...  \n",
       "117  캐치티니핑. 이 파산핑때문에 (삼진이 골수까지 뽑아먹기로 작정) 피규어, 놀이터,인...   neutral  \n",
       "118  3살 여아 키우고 있는 맘이예요 슬슬 미디어 노출로 저희 아이도 캐치티니핑을 알게돼...  positive  \n",
       "119  딸있는 친구들이 티니핑 땜에 죽겠다 할때 야 카봇도 만만치 않아. 콧웃음 쳤다가.....  negative  \n",
       "120  전혀 모르겠어요ㅎㅎ 종류도 너무 많고 시크릿쥬쥬 끝났다 했더니 캐치티니핑 시작인가바...  positive  \n",
       "121  개인거래(판매), 판매중, 가격 3,000원, 직접결제, 티니핑헤어핀/머리띠 등, ...   neutral  \n",
       "\n",
       "[122 rows x 3 columns]"
      ]
     },
     "execution_count": 34,
     "metadata": {},
     "output_type": "execute_result"
    }
   ],
   "source": [
    "df"
   ]
  },
  {
   "cell_type": "code",
   "execution_count": 35,
   "metadata": {},
   "outputs": [],
   "source": [
    "df.to_excel(\"티니핑 블로그 감성분석.xlsx\",index=False)"
   ]
  },
  {
   "cell_type": "code",
   "execution_count": 36,
   "metadata": {},
   "outputs": [
    {
     "data": {
      "text/plain": [
       "neutral     53\n",
       "positive    45\n",
       "negative    24\n",
       "Name: sentiment, dtype: int64"
      ]
     },
     "execution_count": 36,
     "metadata": {},
     "output_type": "execute_result"
    }
   ],
   "source": [
    "df[\"sentiment\"].value_counts()"
   ]
  },
  {
   "cell_type": "code",
   "execution_count": 14,
   "metadata": {},
   "outputs": [],
   "source": [
    "result = naver_sent_api(client_id,client_secret,\"저희 아들 6살인데 티니핑을 많이 좋아해요.. 처음에는 잠깐 좋아하고 말겠지 했는데 캐릭터 장난감도 사달라하고 만화도 즐겨보네요 저번에는 티니핑 네일아트도 사달라고 하던데 은근 걱정이 되네요. 아들인데 을...\")"
   ]
  },
  {
   "cell_type": "code",
   "execution_count": 15,
   "metadata": {},
   "outputs": [
    {
     "data": {
      "text/plain": [
       "'negative'"
      ]
     },
     "execution_count": 15,
     "metadata": {},
     "output_type": "execute_result"
    }
   ],
   "source": [
    "result"
   ]
  }
 ],
 "metadata": {
  "interpreter": {
   "hash": "a077222d77dfe082b8f1dd562ad70e458ac2ab76993a0b248ab0476e32e9e8dd"
  },
  "kernelspec": {
   "display_name": "Python 3.9.7 ('base')",
   "language": "python",
   "name": "python3"
  },
  "language_info": {
   "codemirror_mode": {
    "name": "ipython",
    "version": 3
   },
   "file_extension": ".py",
   "mimetype": "text/x-python",
   "name": "python",
   "nbconvert_exporter": "python",
   "pygments_lexer": "ipython3",
   "version": "3.9.7"
  },
  "orig_nbformat": 4
 },
 "nbformat": 4,
 "nbformat_minor": 2
}
